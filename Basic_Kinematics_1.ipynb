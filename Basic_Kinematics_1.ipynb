{
  "nbformat": 4,
  "nbformat_minor": 0,
  "metadata": {
    "colab": {
      "provenance": [],
      "authorship_tag": "ABX9TyPshCuqW7y1Y555DjZzoOtd",
      "include_colab_link": true
    },
    "kernelspec": {
      "name": "python3",
      "display_name": "Python 3"
    },
    "language_info": {
      "name": "python"
    }
  },
  "cells": [
    {
      "cell_type": "markdown",
      "metadata": {
        "id": "view-in-github",
        "colab_type": "text"
      },
      "source": [
        "<a href=\"https://colab.research.google.com/github/gary464/RET-FILES/blob/main/Basic_Kinematics_1.ipynb\" target=\"_parent\"><img src=\"https://colab.research.google.com/assets/colab-badge.svg\" alt=\"Open In Colab\"/></a>"
      ]
    },
    {
      "cell_type": "markdown",
      "source": [
        "# **This COLAB Notebook is an introduction to Python Programming to represent an object moving in one dimension at constant velocity**"
      ],
      "metadata": {
        "id": "iA77ZFcKXZr0"
      }
    },
    {
      "cell_type": "markdown",
      "source": [
        "**Let's Import some needed libraries**"
      ],
      "metadata": {
        "id": "BHCiKVvs5uQl"
      }
    },
    {
      "cell_type": "code",
      "execution_count": null,
      "metadata": {
        "id": "qF0u_fDb5jOr"
      },
      "outputs": [],
      "source": [
        "import numpy as np\n",
        "import math\n",
        "import matplotlib.pyplot as plt\n",
        "import matplotlib.animation as animation"
      ]
    },
    {
      "cell_type": "markdown",
      "source": [
        "**Now we will add a simple ball moving across a 2-D surface at constant velocity.**\n",
        "\n",
        "First, we will create and initialize variables for the x location, the x  velocity and time."
      ],
      "metadata": {
        "id": "kgIDYzue526W"
      }
    },
    {
      "cell_type": "code",
      "source": [
        "x = 0\n",
        "vx = 2\n",
        "t = 0"
      ],
      "metadata": {
        "id": "kvPEvS6zJlNY"
      },
      "execution_count": null,
      "outputs": []
    },
    {
      "cell_type": "markdown",
      "source": [
        "**Now we will use a WHILE LOOP Structure to generate our x and y location data as time progresses.**\n",
        "\n",
        "We will first create new varibales which will be arrays (a set of data points).  We will use the following format for these variables: saved_x to represent our saved array of x locations.\n",
        "\n",
        "The while loop will take the initial value of t (set to 0) and run the included functions to determine the location of x and y for that t value.  It will then \"append\" the x and y locations at that t to the new saved array.  At the end, time t will de increased by the set interval (in this case 1) by the equation t = t+1.\n",
        "\n",
        "**NOTE:** all of the code inside the while loop is indented at the same level.  When you are completed with the loop, you start coding back at the un-indented level, this signifies the loop is complete.\n",
        "\n",
        "The While loop includes the standard form of the function for the location of an object travelling at constant velocity: Position = initial position + (velocity * change in time)\n",
        "\n",
        "x = x0 + vx * t\n",
        "\n",
        "The print(saved_x) command just prints the new array so you may inspect it.\n",
        "\n",
        "Try running the code again, but first comment out the t = 1 before the while loop and observe the change in output for saved_x."
      ],
      "metadata": {
        "id": "dJAo6RuGJsHu"
      }
    },
    {
      "cell_type": "code",
      "source": [
        "# Create the arrays to store the x location and time from our functions\n",
        "saved_x = []\n",
        "saved_t = []\n",
        "\n",
        "# This while will run over and over until t is greater than 10 (from 0 - 10: 11 steps).\n",
        "while t <= 10:\n",
        "  saved_x.append(x + vx*t)\n",
        "  saved_t.append(t)\n",
        "\n",
        "  t = t + 1\n",
        "print(saved_x)\n",
        "print(saved_t)"
      ],
      "metadata": {
        "id": "EoNXfkQRMDVg"
      },
      "execution_count": null,
      "outputs": []
    },
    {
      "cell_type": "markdown",
      "source": [
        "**It is now time to plot the data to visualize the results**\n",
        "\n",
        "First, let's plot just a representation of x vs. time.  We will plot our data using a scatter plot.  The coding for the scatter plot comes from the library matplot.lib.pyplot which we loaded in our initial steps.\n",
        "\n",
        "Notice How easy it is to add titles and axis labels to plots in Python.\n",
        "\n",
        "The command plt.xlim allows you to choose the range over which you want your data plotted.  Be careful to note that xlim and ylim refer to the x and y axes on the graph, **NOT** your x, y,or t data points"
      ],
      "metadata": {
        "id": "nL7ZE-r2UKn_"
      }
    },
    {
      "cell_type": "code",
      "source": [
        "scatter_plot = plt.scatter(saved_t, saved_x)\n",
        "plt.xlim(0,10)  # Set the range of the x axis\n",
        "plt.ylim(0,20)  # Set the range of the y axis\n",
        "plt.title('X vs. Time')\n",
        "plt.xlabel('Time')\n",
        "plt.ylabel('X')\n",
        "plt.show()"
      ],
      "metadata": {
        "id": "gWgRejUaQ3s_"
      },
      "execution_count": null,
      "outputs": []
    },
    {
      "cell_type": "markdown",
      "source": [
        "**Now let's run all the code together as 1 program**"
      ],
      "metadata": {
        "id": "vS3lIghujzw7"
      }
    },
    {
      "cell_type": "code",
      "source": [
        "import numpy as np\n",
        "import math\n",
        "import matplotlib.pyplot as plt\n",
        "import matplotlib.animation as animation\n",
        "\n",
        "x = 0\n",
        "vx = 2\n",
        "t = 0\n",
        "\n",
        "saved_x = []\n",
        "saved_t = []\n",
        "\n",
        "while t <= 10:\n",
        "  saved_x.append(x + vx*t)\n",
        "  saved_t.append(t)\n",
        "\n",
        "  t = t + 1\n",
        "\n",
        "scatter_plot = plt.scatter(saved_t, saved_x)\n",
        "plt.xlim(0,10)\n",
        "plt.ylim(0,20)\n",
        "plt.title('X vs. Time')\n",
        "plt.xlabel('Time')\n",
        "plt.ylabel('X')\n",
        "plt.show()"
      ],
      "metadata": {
        "id": "Eoi9LgY8kYgj"
      },
      "execution_count": null,
      "outputs": []
    }
  ]
}