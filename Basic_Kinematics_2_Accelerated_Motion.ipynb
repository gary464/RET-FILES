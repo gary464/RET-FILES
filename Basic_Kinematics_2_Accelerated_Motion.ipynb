{
  "nbformat": 4,
  "nbformat_minor": 0,
  "metadata": {
    "colab": {
      "provenance": [],
      "authorship_tag": "ABX9TyPtGLHrkJB3lIT+toXJaJnn",
      "include_colab_link": true
    },
    "kernelspec": {
      "name": "python3",
      "display_name": "Python 3"
    },
    "language_info": {
      "name": "python"
    }
  },
  "cells": [
    {
      "cell_type": "markdown",
      "metadata": {
        "id": "view-in-github",
        "colab_type": "text"
      },
      "source": [
        "<a href=\"https://colab.research.google.com/github/gary464/RET-FILES/blob/main/Basic_Kinematics_2_Accelerated_Motion.ipynb\" target=\"_parent\"><img src=\"https://colab.research.google.com/assets/colab-badge.svg\" alt=\"Open In Colab\"/></a>"
      ]
    },
    {
      "cell_type": "markdown",
      "source": [
        "# **This COLAB Notebook is an introduction to Python Programming to represent basic Kinematics 2 - Accelerated Motion**"
      ],
      "metadata": {
        "id": "iA77ZFcKXZr0"
      }
    },
    {
      "cell_type": "markdown",
      "source": [
        "**We're going to speed through the parts from Kinematics 1**\n",
        "Let's Import some needed libraries AND Initialize some variables"
      ],
      "metadata": {
        "id": "BHCiKVvs5uQl"
      }
    },
    {
      "cell_type": "code",
      "execution_count": null,
      "metadata": {
        "id": "qF0u_fDb5jOr"
      },
      "outputs": [],
      "source": [
        "import numpy as np\n",
        "import math\n",
        "import matplotlib.pyplot as plt\n",
        "\n",
        "x0 = 0\n",
        "vx = 4\n",
        "ax = 2\n",
        "t = 0"
      ]
    },
    {
      "cell_type": "markdown",
      "source": [
        "**We again use a WHILE LOOP Structure to generate our x and y location data as time progresses.**\n",
        "\n",
        "This While loop includes the standard form of the function for the location of an object travelling at constant velocity: Position = initial position + (velocity * change in time) from Kinematics 1.\n",
        "\n",
        "x = x0 + vx * t\n",
        "\n",
        "**Now let's adjust the function to accelerated motion:**\n",
        "\n",
        "Change the equation to reflect as follows:\n",
        "\n",
        "saved_x.append(x + vx * t + 0.5 * ax * t**2)  \n",
        "\n",
        "Note: in Pyhton we use the symbol ** to raise a variable to an exponent."
      ],
      "metadata": {
        "id": "dJAo6RuGJsHu"
      }
    },
    {
      "cell_type": "code",
      "source": [
        "# Create the arrays to store the x and y locations from our functions\n",
        "saved_x = []\n",
        "saved_y = []\n",
        "saved_t = []\n",
        "\n",
        "t = 0  # Here we reset t = 0, the arrays saved_x etc already have the data point when t = 0\n",
        "\n",
        "# This while loop will run over and over until t is greater than 10 (from 0 - 10: 11 steps).\n",
        "while t <= 10:\n",
        "  saved_x.append(x0 + vx * t + 0.5 * ax * t ** 2)\n",
        "  saved_t.append(t)\n",
        "\n",
        "  t = t + 1"
      ],
      "metadata": {
        "id": "EoNXfkQRMDVg"
      },
      "execution_count": null,
      "outputs": []
    },
    {
      "cell_type": "markdown",
      "source": [
        "**It is now time to plot the data to visualize the results**\n",
        "\n",
        "First, let's plot just a representation of x vs. time.  We will plot our data using a scatter plot.  The coding for the scatter plot comes from the library matplot.lib.pyplot which we loaded in our initial steps.\n",
        "\n",
        "Notice How easy it is to add titles and axis labels to plots in Python."
      ],
      "metadata": {
        "id": "nL7ZE-r2UKn_"
      }
    },
    {
      "cell_type": "code",
      "source": [
        "scatter_plot = plt.scatter(saved_t, saved_x)\n",
        "plt.title('X vs. Time')\n",
        "plt.xlabel('Time')\n",
        "plt.ylabel('X')\n",
        "plt.show()"
      ],
      "metadata": {
        "id": "gWgRejUaQ3s_"
      },
      "execution_count": null,
      "outputs": []
    },
    {
      "cell_type": "markdown",
      "source": [
        "**Often in physics we come across functions which do not yield a straight line.\n",
        " In these cases we often use a process called linearization in order to get the slope to have meaning**\n"
      ],
      "metadata": {
        "id": "vS3lIghujzw7"
      }
    },
    {
      "cell_type": "code",
      "source": [
        "# First let's set the initial velocity = 0, it simplifies te chart\n",
        "vx =0\n",
        "# we will also reset ax here so we can  adjust it easily\n",
        "ax = 5\n",
        "\n",
        "# reinitialize the saved_x variable to clear out the data\n",
        "saved_x = []\n",
        "\n",
        "# initialize saved_t_squared\n",
        "saved_t_squared = []\n",
        "\n",
        "# reset t = 0\n",
        "t = 0\n",
        "\n",
        "while t <= 10:\n",
        "  saved_x.append(x0 + vx * t + 0.5 * ax * t ** 2)\n",
        "  saved_t.append(t)\n",
        "  saved_t_squared.append(t**2)\n",
        "\n",
        "  t = t + 1\n",
        "\n",
        "\n",
        "scatter_plot = plt.scatter(saved_t_squared, saved_x)\n",
        "plt.title('x vs. Time Squared')\n",
        "plt.xlabel('Time Squared')\n",
        "plt.ylabel('X')\n",
        "plt.show()"
      ],
      "metadata": {
        "id": "Eoi9LgY8kYgj"
      },
      "execution_count": null,
      "outputs": []
    },
    {
      "cell_type": "markdown",
      "source": [
        "**Finally, let's show that the slope of the x vs time squared curve is equal to coefficient in front of the t_squared variable (1/2 the acceleration).**\n",
        "\n",
        "The formula for the equation (remeber we set vx = 0 and x0 so we can ignore them) is:\n",
        "\n",
        "x = (0.5 * ax) * t_squared\n",
        "\n"
      ],
      "metadata": {
        "id": "7Izs7XRi70_8"
      }
    },
    {
      "cell_type": "code",
      "source": [
        "-#  Let's Calculate the slope of the line using the 4th and 7th data point of the 2 arrays\n",
        "#  Note our index numbers to use are 6 and 3 instead of 7 and 4\n",
        "slope = (saved_x[6] - saved_x[3])/(saved_tsquared[6] - saved_tsquared[3])\n",
        "print('slope = ',slope)  # The use of ' ' allows us to add fixed text (here 'slope = ' to the print command)"
      ],
      "metadata": {
        "id": "50s7IxPM-TQ3"
      },
      "execution_count": null,
      "outputs": []
    }
  ]
}