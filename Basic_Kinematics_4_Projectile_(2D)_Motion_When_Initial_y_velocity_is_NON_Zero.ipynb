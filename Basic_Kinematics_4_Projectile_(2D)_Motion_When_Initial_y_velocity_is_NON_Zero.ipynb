{
  "nbformat": 4,
  "nbformat_minor": 0,
  "metadata": {
    "colab": {
      "provenance": [],
      "authorship_tag": "ABX9TyPQxLUO9iRe+d8HrXWSh8tq",
      "include_colab_link": true
    },
    "kernelspec": {
      "name": "python3",
      "display_name": "Python 3"
    },
    "language_info": {
      "name": "python"
    }
  },
  "cells": [
    {
      "cell_type": "markdown",
      "metadata": {
        "id": "view-in-github",
        "colab_type": "text"
      },
      "source": [
        "<a href=\"https://colab.research.google.com/github/gary464/RET-FILES/blob/main/Basic_Kinematics_4_Projectile_(2D)_Motion_When_Initial_y_velocity_is_NON_Zero.ipynb\" target=\"_parent\"><img src=\"https://colab.research.google.com/assets/colab-badge.svg\" alt=\"Open In Colab\"/></a>"
      ]
    },
    {
      "cell_type": "markdown",
      "source": [
        "# **This COLAB Notebook is an introduction to Python Programming to represent basic Kinematics 4 - Projectile Motion When Initial y-Velocity is NON-Zero**"
      ],
      "metadata": {
        "id": "iA77ZFcKXZr0"
      }
    },
    {
      "cell_type": "markdown",
      "source": [
        "**We're going to speed through the parts from Kinematics 1 & 2**\n",
        "\n",
        "Let's Import some needed libraries AND Initialize some variables\n",
        "\n",
        "Note:  We will now change velocity such that we will simply have v0 (initial velocity) and an angle (measured in degrees)."
      ],
      "metadata": {
        "id": "BHCiKVvs5uQl"
      }
    },
    {
      "cell_type": "code",
      "execution_count": null,
      "metadata": {
        "id": "qF0u_fDb5jOr"
      },
      "outputs": [],
      "source": [
        "import numpy as np\n",
        "import math\n",
        "import matplotlib.pyplot as plt\n",
        "\n",
        "x0 = 0\n",
        "y0 = 100\n",
        "v0 = 20\n",
        "angle = 60\n",
        "ax = 0\n",
        "ay = -9.81\n",
        "t = 0"
      ]
    },
    {
      "cell_type": "markdown",
      "source": [
        "**First let's Calculate the initial x and y velocities from the initial absolute velocity and the initial angle**\n",
        "\n",
        "The basic geometry of a launched object allows us to decompose the absolute velocity vector into the verticle and horizontal velocity vectors using the the following equations:\n",
        "\n",
        "vx0 = v * cos(angle)\n",
        "\n",
        "vy0 = v * sin(angle)\n",
        "\n",
        "Numpy expects the angle to be in radians so we will first need to convert degrees to radians using the following:\n",
        "\n",
        "angle_radians = angle / 360 * 2 * np.pi"
      ],
      "metadata": {
        "id": "UKH1yvF_8Pel"
      }
    },
    {
      "cell_type": "code",
      "source": [
        "vx0 = v0 * np.cos((angle / 360) * 2 * np.pi)\n",
        "vy0 = v0 * np.sin((angle / 360) * 2 * np.pi)\n",
        "print(vx0)\n",
        "print(vy0)\n"
      ],
      "metadata": {
        "id": "M2UXOkRavzct"
      },
      "execution_count": null,
      "outputs": []
    },
    {
      "cell_type": "markdown",
      "source": [
        "**We again use a WHILE LOOP Structure to generate our x and y location data as time progresses.**\n",
        "\n",
        "We will use the formula for accelerated motion in both the x an y directions"
      ],
      "metadata": {
        "id": "dJAo6RuGJsHu"
      }
    },
    {
      "cell_type": "code",
      "source": [
        "# Create the arrays to store the x and y locations from our functions\n",
        "saved_x = []\n",
        "saved_y = []\n",
        "saved_t = []\n",
        "\n",
        "t = 0  # Here we reset t = 0, the arrays saved_x etc already have the data point when t = 0\n",
        "\n",
        "# This while will run over and over until t is greater than 10 (from 0 - 10: 11 steps).\n",
        "while t <= 10:\n",
        "  saved_x.append(x0 + vx0 * t + 0.5 * ax * t ** 2)\n",
        "  saved_y.append(y0 + vy0 * t + 0.5 * ay * t ** 2)\n",
        "  saved_t.append(t)\n",
        "\n",
        "  t = t + 1"
      ],
      "metadata": {
        "id": "EoNXfkQRMDVg"
      },
      "execution_count": null,
      "outputs": []
    },
    {
      "cell_type": "markdown",
      "source": [
        "**It is now time to plot the data to visualize the results**\n",
        "\n",
        "First, let's plot just representations of x and y vs. time.  We will plot our data using a scatter plot.  The coding for the scatter plot comes from the library matplot.lib.pyplot which we loaded in our initial steps.\n",
        "\n",
        "Notice How easy it is to add titles and axis labels to plots in Python."
      ],
      "metadata": {
        "id": "nL7ZE-r2UKn_"
      }
    },
    {
      "cell_type": "code",
      "source": [
        "scatter_plot = plt.scatter(saved_t, saved_x, label = 'x')\n",
        "scatter_plot = plt.scatter(saved_t, saved_y, label = 'y')\n",
        "plt.title('x And y vs. Time')\n",
        "plt.xlabel('Time')\n",
        "plt.ylabel('x and y ')\n",
        "plt.legend()\n",
        "plt.show()"
      ],
      "metadata": {
        "id": "gWgRejUaQ3s_"
      },
      "execution_count": null,
      "outputs": []
    },
    {
      "cell_type": "markdown",
      "source": [
        "**Now plot y vs x so you can visualize the motion of the object in 2 dimensions"
      ],
      "metadata": {
        "id": "aWsLYcnp2De0"
      }
    },
    {
      "cell_type": "code",
      "source": [
        "scatter_plot = plt.scatter(saved_x, saved_y)\n",
        "plt.title('y vs x')\n",
        "plt.xlabel('x')\n",
        "plt.ylabel('y')\n",
        "plt.show()"
      ],
      "metadata": {
        "id": "Eoi9LgY8kYgj"
      },
      "execution_count": null,
      "outputs": []
    },
    {
      "cell_type": "markdown",
      "source": [
        "**Let's Run all out code together now**"
      ],
      "metadata": {
        "id": "W3R4d_mx7hQv"
      }
    },
    {
      "cell_type": "code",
      "source": [
        "#Import Libraries and Initialize Variables\n",
        "import numpy as np\n",
        "import math\n",
        "import matplotlib.pyplot as plt\n",
        "\n",
        "x0 = 0\n",
        "y0 = 100\n",
        "v0 = 20\n",
        "angle = 60\n",
        "ax = 0\n",
        "ay = -9.81\n",
        "t = 0\n",
        "\n",
        "#Calculate the initial x and y velocities from the initial absolute velocity and the initial angle\n",
        "vx0 = v0 * np.cos((angle / 360) * 2 * np.pi)\n",
        "vy0 = v0 * np.sin((angle / 360) * 2 * np.pi)\n",
        "\n",
        "# Create the arrays to store the x and y locations from our functions\n",
        "saved_x = []\n",
        "saved_y = []\n",
        "saved_t = []\n",
        "\n",
        "t = 0  # Here we reset t = 0, the arrays saved_x etc already have the data point when t = 0\n",
        "\n",
        "# This while will run over and over until t is greater than 10 (from 0 - 10: 11 steps).\n",
        "while t <= 10:\n",
        "  saved_x.append(x0 + vx0 * t + 0.5 * ax * t ** 2)\n",
        "  saved_y.append(y0 + vy0 * t + 0.5 * ay * t ** 2)\n",
        "  saved_t.append(t)\n",
        "\n",
        "  t = t + 1\n",
        "\n",
        "# Plot the x and y vs time relationships\n",
        "scatter_plot = plt.scatter(saved_t, saved_x, label = 'x')\n",
        "scatter_plot = plt.scatter(saved_t, saved_y, label = 'y')\n",
        "plt.title('x And y vs. Time')\n",
        "plt.xlabel('Time')\n",
        "plt.ylabel('x and y ')\n",
        "plt.legend()\n",
        "plt.show()\n",
        "\n",
        "# Plot y vs x\n",
        "scatter_plot = plt.scatter(saved_x, saved_y)\n",
        "plt.title('y vs x')\n",
        "plt.xlabel('x')\n",
        "plt.ylabel('y')\n",
        "plt.show()"
      ],
      "metadata": {
        "id": "RN_WZ1p27qaA"
      },
      "execution_count": null,
      "outputs": []
    }
  ]
}